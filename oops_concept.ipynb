{
  "nbformat": 4,
  "nbformat_minor": 0,
  "metadata": {
    "colab": {
      "provenance": [],
      "authorship_tag": "ABX9TyP47BD+Io+WH9K1014oTDhe",
      "include_colab_link": true
    },
    "kernelspec": {
      "name": "python3",
      "display_name": "Python 3"
    },
    "language_info": {
      "name": "python"
    }
  },
  "cells": [
    {
      "cell_type": "markdown",
      "metadata": {
        "id": "view-in-github",
        "colab_type": "text"
      },
      "source": [
        "<a href=\"https://colab.research.google.com/github/vananthi/classes-and-objects/blob/main/oops_concept.ipynb\" target=\"_parent\"><img src=\"https://colab.research.google.com/assets/colab-badge.svg\" alt=\"Open In Colab\"/></a>"
      ]
    },
    {
      "cell_type": "code",
      "execution_count": null,
      "metadata": {
        "colab": {
          "base_uri": "https://localhost:8080/"
        },
        "id": "JeRgWmrX6SrH",
        "outputId": "6b9520c5-0257-4a93-e162-0a2e78a476bd"
      },
      "outputs": [
        {
          "output_type": "stream",
          "name": "stdout",
          "text": [
            "enter r value:5\n",
            "area of circle is: 78.5\n",
            "area of rectangle is: 9\n",
            "enter s value:8\n",
            "area of square is 64\n",
            "area of triangle is: 250.0\n"
          ]
        }
      ],
      "source": [
        "# Write a programm to calculate the area of circle,rectangle,square and triangle\n",
        "class area():\n",
        "  def aoc(self):#no parameter no retrun type\n",
        "    r=int(input(\"enter r value:\"))\n",
        "    a=3.14*r**2\n",
        "    print(\"area of circle is:\",a)\n",
        "  def aor(self,b,h): #parameter with no return type\n",
        "    c=b*h\n",
        "    print(\"area of rectangle is:\",c)\n",
        "  def aos(self):  # no parameter with return type\n",
        "    s=int(input('enter s value:'))\n",
        "    b=s**2\n",
        "    return(b)\n",
        "  def aot(self,l,m):  # parameter with return type\n",
        "    d=0.5*l*m\n",
        "    return(d)\n",
        "areaobj=area()\n",
        "areaobj.aoc()\n",
        "areaobj.aor(3,3)\n",
        "aros=areaobj.aos()\n",
        "print(\"area of square is\",aros)\n",
        "arot=areaobj.aot(20,25)\n",
        "print(\"area of triangle is:\",arot)\n"
      ]
    },
    {
      "cell_type": "code",
      "source": [
        "class area():\n",
        "  def aoc(self):#no parameter no retrun type\n",
        "    r=int(input(\"enter r value:\"))\n",
        "    a=3.14*r**2\n",
        "    print(\"area of circle is:\",a)\n",
        "  def aor(self,b,h): #parameter with no return type\n",
        "    c=b*h\n",
        "    print(\"area of rectangle is:\",c)\n",
        "  def aos(self):  # no parameter with return type\n",
        "    s=int(input('enter s value:'))\n",
        "    b=s**2\n",
        "    return(b)\n",
        "  def aot(self,l,m):  # parameter with return type\n",
        "    d=0.5*l*m\n",
        "    return(d)\n",
        "areaobj=area()\n",
        "# to cal circle\n",
        "areaobj.aoc()\n",
        "# to cal rectangle\n",
        "base=int(input(\"enter the base value:\"))\n",
        "height=int(input(\"enter the height value:\"))\n",
        "areaobj.aor(base,height)\n",
        "# to cal square\n",
        "aros=areaobj.aos()\n",
        "print(\"area of square is\",aros)\n",
        "# to cal triangle3\n",
        "length=int(input(\"enter the l value:\"))\n",
        "widh=int(input('enter the w value:'))\n",
        "arot=areaobj.aot(length,widh)\n",
        "print(\"area of triangle is:\",arot)\n"
      ],
      "metadata": {
        "colab": {
          "base_uri": "https://localhost:8080/"
        },
        "id": "J7QwGbKONE9S",
        "outputId": "b85aa8a4-4e8d-49f5-a546-5f4ff57e80ea"
      },
      "execution_count": null,
      "outputs": [
        {
          "output_type": "stream",
          "name": "stdout",
          "text": [
            "enter r value:3\n",
            "area of circle is: 28.26\n",
            "enter the base value:3\n",
            "enter the height value:3\n",
            "area of rectangle is: 9\n",
            "enter s value:3\n",
            "area of square is 9\n",
            "enter the l value:3\n",
            "enter the w value:3\n",
            "area of triangle is: 4.5\n"
          ]
        }
      ]
    },
    {
      "cell_type": "code",
      "source": [
        "# to solve arithmatic operations for add,sub,div,multi"
      ],
      "metadata": {
        "id": "JevCrUPEPSdI"
      },
      "execution_count": null,
      "outputs": []
    },
    {
      "cell_type": "code",
      "source": [
        "# write a programm to calculate the perimeter of rectangle,square and circle.\n",
        "#perr=2*(l+b)\n",
        "#perc=2*3.14*r\n",
        "#pers=4*a\n",
        "class peri():\n",
        "  def perc(self):\n",
        "    r=int(input(\"enter the r value:\"))\n",
        "    perrc=2*3.14*r\n",
        "    print(\"the perimeter of circle is:\",r)\n",
        "  def perr(self,l,h):\n",
        "\n",
        "\n",
        "periobj=peri()\n",
        "peri().perc()\n"
      ],
      "metadata": {
        "colab": {
          "base_uri": "https://localhost:8080/"
        },
        "id": "iLVrRmzvYsoM",
        "outputId": "3815b59f-dd8d-463e-8693-3333d7672e41"
      },
      "execution_count": null,
      "outputs": [
        {
          "output_type": "stream",
          "name": "stdout",
          "text": [
            "enter the r value:3\n",
            "the pwrimeter of circle is: 3\n"
          ]
        }
      ]
    }
  ]
}